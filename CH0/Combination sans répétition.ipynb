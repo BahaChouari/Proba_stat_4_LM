{
 "cells": [
  {
   "cell_type": "code",
   "execution_count": 5,
   "metadata": {},
   "outputs": [],
   "source": [
    "def comb(n, k):\n",
    "    '''\n",
    "    Yield les sous ensembles de 1 .. n à k élément\n",
    "    n -- un entier > 0\n",
    "    k -- un entier > 0\n",
    "    '''\n",
    "    # Validation\n",
    "    if n < 0:\n",
    "        raise ValueError('n doit être > 0, mais n=%d' % n)\n",
    "    if k < 0:\n",
    "        raise ValueError('k doit être > 0, mais k=%d' % k)\n",
    "    # cas particulier\n",
    "    if k == 0 or n < k:\n",
    "        yield set()\n",
    "    elif n == k:\n",
    "        yield set(range(1,n+1))\n",
    "\n",
    "    else:\n",
    "        # utiliser la formule récursive de Pascal:\n",
    "        # choisir(n, k) = choisir(n - 1, k - 1) + choisir(n - 1, k)\n",
    "        for s in comb(n - 1, k - 1):\n",
    "            s.add(n)\n",
    "            yield s\n",
    "        for s in comb(n - 1, k):\n",
    "            yield s\n",
    "    "
   ]
  },
  {
   "cell_type": "code",
   "execution_count": 6,
   "metadata": {},
   "outputs": [
    {
     "data": {
      "text/plain": [
       "[{4, 5},\n",
       " {3, 5},\n",
       " {2, 5},\n",
       " {1, 5},\n",
       " {3, 4},\n",
       " {2, 4},\n",
       " {1, 4},\n",
       " {2, 3},\n",
       " {1, 3},\n",
       " {1, 2}]"
      ]
     },
     "execution_count": 6,
     "metadata": {},
     "output_type": "execute_result"
    }
   ],
   "source": [
    "(list(comb(5,2)))"
   ]
  },
  {
   "cell_type": "code",
   "execution_count": null,
   "metadata": {},
   "outputs": [],
   "source": []
  }
 ],
 "metadata": {
  "kernelspec": {
   "display_name": "Python 3",
   "language": "python",
   "name": "python3"
  },
  "language_info": {
   "codemirror_mode": {
    "name": "ipython",
    "version": 3
   },
   "file_extension": ".py",
   "mimetype": "text/x-python",
   "name": "python",
   "nbconvert_exporter": "python",
   "pygments_lexer": "ipython3",
   "version": "3.7.4"
  }
 },
 "nbformat": 4,
 "nbformat_minor": 2
}
