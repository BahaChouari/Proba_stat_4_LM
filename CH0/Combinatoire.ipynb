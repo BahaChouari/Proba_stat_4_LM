{
 "cells": [
  {
   "cell_type": "code",
   "execution_count": 1,
   "metadata": {},
   "outputs": [
    {
     "data": {
      "text/plain": [
       "24"
      ]
     },
     "execution_count": 1,
     "metadata": {},
     "output_type": "execute_result"
    }
   ],
   "source": [
    "# -*- coding: utf-8 -*-\n",
    "\"\"\"\n",
    "Created on Sat Mar  3 21:08:28 2018\n",
    "\n",
    "@author: NEVERMIND\n",
    "\"\"\"\n",
    "import itertools\n",
    "from itertools import combinations_with_replacement\n",
    "import string\n",
    "from math import factorial\n",
    "from numpy import prod\n",
    "import os\n",
    "\n",
    "\n",
    "def anagrams(word):\n",
    "    \"\"\" Generate all of the anagrams of a word. \"\"\" \n",
    "    if len(word) < 2:\n",
    "        yield word\n",
    "    else:\n",
    "        for i, letter in enumerate(word):\n",
    "            if not letter in word[:i]: #éviter les duplications\n",
    "                for j in anagrams(word[:i]+word[i+1:]):\n",
    "                    yield j+letter\n",
    "\n",
    "def numbanagram(word):\n",
    "    occ=[word.count(i) for i in set(word)]\n",
    "    return(int(factorial(len(word))/prod([factorial(i) for i in occ])))\n",
    "        \n",
    "numbanagram(\"MISSISSIPPI\")\n",
    "numbanagram(\"MATH\")\n"
   ]
  },
  {
   "cell_type": "markdown",
   "metadata": {},
   "source": [
    "# Code de l'algo anagram\n",
    "\n",
    "```python\n",
    "def anagrams(word):\n",
    "    \"\"\" Generate all of the anagrams of a word. \"\"\" \n",
    "    if len(word) < 2:\n",
    "        yield word\n",
    "    else:\n",
    "        for i, letter in enumerate(word):\n",
    "            if not letter in word[:i]: #éviter les duplications\n",
    "                for j in anagrams(word[:i]+word[i+1:]):\n",
    "                    yield j+letter\n",
    "                    ```"
   ]
  },
  {
   "cell_type": "code",
   "execution_count": 3,
   "metadata": {},
   "outputs": [
    {
     "name": "stdout",
     "output_type": "stream",
     "text": [
      "34650\n"
     ]
    }
   ],
   "source": [
    "ANA=anagrams(\"MISSISSIPPI\")\n",
    "\n",
    "\n",
    "\n",
    "print(numbanagram(\"MISSISSIPPI\"))"
   ]
  },
  {
   "cell_type": "code",
   "execution_count": 4,
   "metadata": {},
   "outputs": [
    {
     "data": {
      "text/plain": [
       "'IPPISSISSIM'"
      ]
     },
     "execution_count": 4,
     "metadata": {},
     "output_type": "execute_result"
    }
   ],
   "source": [
    "next(ANA)"
   ]
  },
  {
   "cell_type": "code",
   "execution_count": 5,
   "metadata": {},
   "outputs": [
    {
     "name": "stdout",
     "output_type": "stream",
     "text": [
      "PIPISSISSIM\n",
      "PPIISSISSIM\n",
      "IPIPSSISSIM\n",
      "PIIPSSISSIM\n",
      "IIPPSSISSIM\n"
     ]
    }
   ],
   "source": [
    "for i in range(5):\n",
    "    print(next(ANA))"
   ]
  },
  {
   "cell_type": "code",
   "execution_count": 6,
   "metadata": {},
   "outputs": [
    {
     "data": {
      "text/plain": [
       "'IPPISSISSIM'"
      ]
     },
     "execution_count": 6,
     "metadata": {},
     "output_type": "execute_result"
    }
   ],
   "source": [
    "ANA=anagrams(\"MISSISSIPPI\")\n",
    "next(ANA)"
   ]
  },
  {
   "cell_type": "code",
   "execution_count": 7,
   "metadata": {},
   "outputs": [
    {
     "data": {
      "text/plain": [
       "'PIPISSISSIM'"
      ]
     },
     "execution_count": 7,
     "metadata": {},
     "output_type": "execute_result"
    }
   ],
   "source": [
    "next(ANA)"
   ]
  },
  {
   "cell_type": "markdown",
   "metadata": {},
   "source": [
    "## Exercice \n",
    "\n",
    "On dispose de 10 billes de couleur que l' on veut placer sur une même rangée.\n",
    "\n",
    "1. On suppose que les billes sont de couleurs différentes. De combien de façons différentes peut on\n",
    "les ranger ?\n",
    "\n",
    "2. On suppose qu'il y a 5 billes rouges, 2 blanches et trois vertes. Deux billes de même couleur\n",
    "sont indiscernables.\n",
    "\n",
    "    (a) De combien de façons différentes peut-on les ranger ?\n",
    "\n",
    "    (b) De combien de façons peut-on les ranger si on veut que les billes soient regroupées par\n",
    "    couleur ?\n",
    "\n",
    "    (c) Même question si seules les rouges doivent être groupées."
   ]
  },
  {
   "cell_type": "code",
   "execution_count": 8,
   "metadata": {},
   "outputs": [],
   "source": [
    "ANA=anagrams(\"RRRRRBBBNN\")\n"
   ]
  },
  {
   "cell_type": "code",
   "execution_count": 9,
   "metadata": {},
   "outputs": [
    {
     "data": {
      "text/plain": [
       "2520"
      ]
     },
     "execution_count": 9,
     "metadata": {},
     "output_type": "execute_result"
    }
   ],
   "source": [
    "numbanagram(\"RRRRRBBBNN\")"
   ]
  },
  {
   "cell_type": "code",
   "execution_count": 10,
   "metadata": {},
   "outputs": [],
   "source": [
    "M=list(ANA)\n"
   ]
  },
  {
   "cell_type": "code",
   "execution_count": 11,
   "metadata": {},
   "outputs": [],
   "source": [
    "import re"
   ]
  },
  {
   "cell_type": "code",
   "execution_count": 12,
   "metadata": {},
   "outputs": [],
   "source": [
    "pattR = re.compile(\"RRRRR\")\n",
    "pattB = re.compile(\"BBB\")\n",
    "pattN = re.compile(\"NN\")\n",
    "result=[]"
   ]
  },
  {
   "cell_type": "code",
   "execution_count": 13,
   "metadata": {},
   "outputs": [],
   "source": [
    "result=[]\n",
    "for str in M:\n",
    "    if re.search(pattR,str) and not re.search(pattB,str) and not re.search(pattN,str):\n",
    "        result.append([str,re.search(pattR,str).span()]) \n"
   ]
  },
  {
   "cell_type": "code",
   "execution_count": 14,
   "metadata": {},
   "outputs": [
    {
     "data": {
      "text/plain": [
       "34"
      ]
     },
     "execution_count": 14,
     "metadata": {},
     "output_type": "execute_result"
    }
   ],
   "source": [
    "len(result)"
   ]
  },
  {
   "cell_type": "code",
   "execution_count": 15,
   "metadata": {},
   "outputs": [],
   "source": [
    "#result"
   ]
  },
  {
   "cell_type": "code",
   "execution_count": 16,
   "metadata": {},
   "outputs": [],
   "source": [
    "resultR=[]\n",
    "for str in M:\n",
    "    if re.search(pattR,str):\n",
    "        resultR.append(str) \n",
    "setR=set(resultR)\n",
    "resultN=[]\n",
    "for str in M:\n",
    "    if re.search(pattN,str):\n",
    "        resultN.append(str) \n",
    "setN=set(resultN)\n",
    "resultB=[]\n",
    "for str in M:\n",
    "    if re.search(pattB,str):\n",
    "        resultB.append(str) \n",
    "setB=set(resultB)"
   ]
  },
  {
   "cell_type": "code",
   "execution_count": 17,
   "metadata": {},
   "outputs": [
    {
     "data": {
      "image/png": "[encoded data removed]",
      "text/plain": [
       "<Figure size 576x576 with 1 Axes>"
      ]
     },
     "metadata": {},
     "output_type": "display_data"
    }
   ],
   "source": [
    "%matplotlib inline\n",
    "from matplotlib import pyplot as plt\n",
    "import numpy as np\n",
    "from matplotlib_venn import venn3, venn3_circles\n",
    "from pylab import rcParams\n",
    "rcParams['figure.figsize']=8,8\n",
    "fig = plt.figure()\n",
    "\n",
    "v = venn3([setR, setN, setB], ('Reds', 'Blues', 'blacks'))\n",
    "v.get_patch_by_id('100').set_color('red')\n",
    "v.get_patch_by_id('001').set_color('black')\n",
    "v.get_patch_by_id('010').set_color('blue')"
   ]
  },
  {
   "cell_type": "markdown",
   "metadata": {},
   "source": []
  },
  {
   "cell_type": "code",
   "execution_count": null,
   "metadata": {},
   "outputs": [],
   "source": []
  }
 ],
 "metadata": {
  "kernelspec": {
   "display_name": "Python 3",
   "language": "python",
   "name": "python3"
  },
  "language_info": {
   "codemirror_mode": {
    "name": "ipython",
    "version": 3
   },
   "file_extension": ".py",
   "mimetype": "text/x-python",
   "name": "python",
   "nbconvert_exporter": "python",
   "pygments_lexer": "ipython3",
   "version": "3.7.4"
  }
 },
 "nbformat": 4,
 "nbformat_minor": 2
}
